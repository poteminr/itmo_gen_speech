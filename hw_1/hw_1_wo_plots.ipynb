{
 "cells": [
  {
   "cell_type": "markdown",
   "metadata": {},
   "source": [
    "### Part 1"
   ]
  },
  {
   "cell_type": "code",
   "execution_count": 1,
   "metadata": {},
   "outputs": [],
   "source": [
    "%reload_ext autoreload\n",
    "%autoreload 2"
   ]
  },
  {
   "cell_type": "code",
   "execution_count": 2,
   "metadata": {},
   "outputs": [],
   "source": [
    "import plotly.graph_objects as go\n",
    "from plotly.subplots import make_subplots\n",
    "import numpy as np\n",
    "\n",
    "import torch \n",
    "import torchaudio\n",
    "\n",
    "\n",
    "torch.random.manual_seed(42)\n",
    "\n",
    "SAMPLE_SPEECH = torchaudio.utils.download_asset(\"tutorial-assets/Lab41-SRI-VOiCES-src-sp0307-ch127535-sg0042.wav\")"
   ]
  },
  {
   "cell_type": "code",
   "execution_count": 3,
   "metadata": {},
   "outputs": [],
   "source": [
    "signal, sr = torchaudio.load(SAMPLE_SPEECH)"
   ]
  },
  {
   "cell_type": "code",
   "execution_count": null,
   "metadata": {},
   "outputs": [],
   "source": [
    "sr = 16000\n",
    "hop_length = 160\n",
    "n_mels = 80\n",
    "\n",
    "melspec = torchaudio.transforms.MelSpectrogram(\n",
    "    sample_rate=sr,\n",
    "    hop_length=hop_length,\n",
    "    n_mels=n_mels\n",
    ")(signal)\n",
    "\n",
    "from melbanks import LogMelFilterBanks\n",
    "logmelbanks = LogMelFilterBanks(\n",
    "    samplerate=sr,\n",
    "    hop_length=hop_length,\n",
    "    n_mels=n_mels,\n",
    "    return_complex=True\n",
    ")(signal)\n",
    "\n",
    "assert torch.log(melspec + 1e-6).shape == logmelbanks.shape\n",
    "assert torch.allclose(torch.log(melspec + 1e-6), logmelbanks)\n",
    "fig = make_subplots(\n",
    "    rows=2, \n",
    "    cols=1,\n",
    "    subplot_titles=('torchaudio.transforms.MelSpectrogram (log scale)', \n",
    "                   'Custom LogMelFilterBanks Implementation'),\n",
    "    vertical_spacing=0.1\n",
    ")\n",
    "\n",
    "melspec_np = torch.log(melspec + 1e-6)[0].numpy()\n",
    "logmelbanks_np = logmelbanks[0].numpy()\n",
    "\n",
    "fig.add_trace(\n",
    "    go.Heatmap(\n",
    "        z=melspec_np,\n",
    "        colorscale='Viridis',\n",
    "        colorbar=dict(title='dB', x=1.02, y=0.8, len=0.4),\n",
    "        zmin=np.min(melspec_np),\n",
    "        zmax=np.max(melspec_np)\n",
    "    ),\n",
    "    row=1, col=1\n",
    ")\n",
    "\n",
    "fig.add_trace(\n",
    "    go.Heatmap(\n",
    "        z=logmelbanks_np,\n",
    "        colorscale='Viridis',\n",
    "        colorbar=dict(title='dB', x=1.02, y=0.3, len=0.4),\n",
    "        zmin=np.min(logmelbanks_np),\n",
    "        zmax=np.max(logmelbanks_np)\n",
    "    ),\n",
    "    row=2, col=1\n",
    ")\n",
    "\n",
    "fig.update_layout(\n",
    "    height=800,\n",
    "    width=1000,\n",
    "    title_text=\"Mel Spectrogram Comparison\",\n",
    ")\n",
    "\n",
    "fig.update_yaxes(title_text=\"Mel Frequency Bin\", row=1, col=1)\n",
    "fig.update_yaxes(title_text=\"Mel Frequency Bin\", row=2, col=1)\n",
    "\n",
    "fig.update_xaxes(title_text=\"\", row=1, col=1)\n",
    "fig.update_xaxes(title_text=\"Time Frame\", row=2, col=1)\n",
    "\n",
    "fig.show()\n",
    "\n",
    "diff = torch.log(melspec + 1e-6) - logmelbanks\n",
    "diff_np = diff[0].numpy()\n",
    "\n",
    "fig_diff = go.Figure(data=go.Heatmap(\n",
    "    z=diff_np,\n",
    "    colorscale='RdBu_r',  \n",
    "    zmid=0,\n",
    "    colorbar=dict(title='Difference (dB)')\n",
    "))\n",
    "\n",
    "fig_diff.update_layout(\n",
    "    title='Difference between implementations',\n",
    "    xaxis_title='Time Frame',\n",
    "    yaxis_title='Mel Frequency Bin',\n",
    "    height=400,\n",
    "    width=1000\n",
    ")\n",
    "\n",
    "fig_diff.show()"
   ]
  },
  {
   "cell_type": "markdown",
   "metadata": {},
   "source": [
    "### Part 2"
   ]
  },
  {
   "cell_type": "code",
   "execution_count": 5,
   "metadata": {},
   "outputs": [],
   "source": [
    "import tqdm\n",
    "import time\n",
    "import torch.nn as nn\n",
    "from torch.utils.data import Dataset, DataLoader\n",
    "from sklearn.metrics import accuracy_score\n",
    "\n",
    "from ptflops import get_model_complexity_info\n",
    "\n",
    "import plotly.express as px\n",
    "import plotly.graph_objects as go\n",
    "import pandas as pd"
   ]
  },
  {
   "cell_type": "code",
   "execution_count": 6,
   "metadata": {},
   "outputs": [],
   "source": [
    "train = torchaudio.datasets.SPEECHCOMMANDS(\n",
    "        root='./',\n",
    "        download=False,\n",
    "        subset='training'\n",
    ")\n",
    "\n",
    "valid = torchaudio.datasets.SPEECHCOMMANDS(\n",
    "        root='./',\n",
    "        download=False,\n",
    "        subset='validation'\n",
    ")\n",
    "\n",
    "test = torchaudio.datasets.SPEECHCOMMANDS(\n",
    "        root='./',\n",
    "        download=False,\n",
    "        subset='testing'\n",
    ")"
   ]
  },
  {
   "cell_type": "code",
   "execution_count": 7,
   "metadata": {},
   "outputs": [
    {
     "name": "stderr",
     "output_type": "stream",
     "text": [
      "  0%|          | 0/84843 [00:00<?, ?it/s]"
     ]
    },
    {
     "name": "stderr",
     "output_type": "stream",
     "text": [
      "100%|██████████| 84843/84843 [04:46<00:00, 296.03it/s]\n",
      "100%|██████████| 9981/9981 [00:33<00:00, 297.74it/s]\n",
      "100%|██████████| 11005/11005 [00:36<00:00, 300.10it/s]\n"
     ]
    }
   ],
   "source": [
    "train_filtered = [sample for sample in tqdm.tqdm(train) if sample[2] in ['yes', 'no']]\n",
    "valid_filtered = [sample for sample in tqdm.tqdm(valid) if sample[2] in ['yes', 'no']]\n",
    "test_filtered = [sample for sample in tqdm.tqdm(test) if sample[2] in ['yes', 'no']]"
   ]
  },
  {
   "cell_type": "code",
   "execution_count": 8,
   "metadata": {},
   "outputs": [],
   "source": [
    "class SpeechCommandsBinary(Dataset):\n",
    "    def __init__(self, data, transform=None):\n",
    "        self.data = data\n",
    "        self.transform = transform\n",
    "        self.label_to_index = {\"yes\": 1, \"no\": 0}\n",
    "\n",
    "    def __len__(self):\n",
    "        return len(self.data)\n",
    "\n",
    "    def __getitem__(self, idx):\n",
    "        waveform, sample_rate, label, *_ = self.data[idx]\n",
    "        waveform = waveform.squeeze(0)\n",
    "        if self.transform:\n",
    "            waveform = self.transform(waveform)\n",
    "        label_index = self.label_to_index[label]\n",
    "        return waveform, label_index"
   ]
  },
  {
   "cell_type": "code",
   "execution_count": 18,
   "metadata": {},
   "outputs": [],
   "source": [
    "def collate_fn(batch):\n",
    "    inputs = [item[0] for item in batch]\n",
    "    targets = torch.tensor([item[1] for item in batch])\n",
    "    return inputs, targets"
   ]
  },
  {
   "cell_type": "code",
   "execution_count": 30,
   "metadata": {},
   "outputs": [],
   "source": [
    "train_dataset = SpeechCommandsBinary(train_filtered)\n",
    "valid_dataset = SpeechCommandsBinary(valid_filtered)\n",
    "test_dataset = SpeechCommandsBinary(test_filtered)\n",
    "\n",
    "train_loader = DataLoader(train_dataset, batch_size=64, shuffle=True, num_workers=4, collate_fn=collate_fn)\n",
    "val_loader = DataLoader(valid_dataset, batch_size=64, shuffle=False, num_workers=4, collate_fn=collate_fn)\n",
    "test_loader = DataLoader(test_dataset, batch_size=64, shuffle=False, num_workers=4, collate_fn=collate_fn)"
   ]
  },
  {
   "cell_type": "code",
   "execution_count": 31,
   "metadata": {},
   "outputs": [],
   "source": [
    "class CNNClassifier(nn.Module):\n",
    "    def __init__(self, n_mels=80, groups=1):\n",
    "        super(CNNClassifier, self).__init__()\n",
    "        self.logmel = LogMelFilterBanks(n_mels=n_mels)\n",
    "        self.conv1 = nn.Conv1d(n_mels, 32, kernel_size=3, stride=1, padding=1, groups=groups)\n",
    "        self.bn1 = nn.BatchNorm1d(32)\n",
    "        self.relu = nn.ReLU()\n",
    "        self.pool = nn.AdaptiveAvgPool1d(1)\n",
    "        self.fc = nn.Linear(32, 2)\n",
    "\n",
    "    def forward(self, x):\n",
    "        if x.dim() > 2:\n",
    "            x = x.squeeze(1)\n",
    "        x = self.logmel(x)\n",
    "        x = self.conv1(x)\n",
    "        x = self.bn1(x)\n",
    "        x = self.relu(x)\n",
    "        x = self.pool(x)\n",
    "        x = x.squeeze(-1)\n",
    "        x = self.fc(x)\n",
    "        return x"
   ]
  },
  {
   "cell_type": "code",
   "execution_count": 32,
   "metadata": {},
   "outputs": [],
   "source": [
    "def pad_inputs(inputs):\n",
    "    max_len = max(x.shape[-1] for x in inputs)\n",
    "    padded = torch.zeros(len(inputs), max_len)\n",
    "    for i, x in enumerate(inputs):\n",
    "        padded[i, :x.shape[-1]] = x\n",
    "    return padded\n",
    "\n",
    "def train_model(model, train_loader, val_loader, criterion, optimizer, device, num_epochs=10):\n",
    "    history = {'train_loss': [], 'val_accuracy': [], 'epoch_time': []}\n",
    "    model.to(device)\n",
    "    for epoch in range(num_epochs):\n",
    "        model.train()\n",
    "        running_loss = 0.0\n",
    "        start_time = time.time()\n",
    "        pbar = tqdm.tqdm(train_loader, desc=f\"Epoch {epoch+1}/{num_epochs}\")\n",
    "        for inputs, targets in pbar:\n",
    "            inputs = pad_inputs(inputs).to(device)\n",
    "            targets = targets.to(device)\n",
    "            \n",
    "            optimizer.zero_grad()\n",
    "            outputs = model(inputs)\n",
    "            loss = criterion(outputs, targets)\n",
    "            loss.backward()\n",
    "            optimizer.step()\n",
    "            \n",
    "            running_loss += loss.item() * inputs.size(0)\n",
    "            pbar.set_postfix(loss=f\"{loss.item():.4f}\")\n",
    "            \n",
    "        epoch_loss = running_loss / len(train_loader.dataset)\n",
    "        epoch_time = time.time() - start_time\n",
    "        val_acc = evaluate_model(model, val_loader, device)\n",
    "        \n",
    "        history['train_loss'].append(epoch_loss)\n",
    "        history['val_accuracy'].append(val_acc)\n",
    "        history['epoch_time'].append(epoch_time)\n",
    "        \n",
    "        print(f\"Epoch {epoch+1}/{num_epochs} - Loss: {epoch_loss:.4f} - Val Acc: {val_acc:.4f} - Time: {epoch_time:.2f}s\")\n",
    "    return history\n",
    "\n",
    "def evaluate_model(model, data_loader, device):\n",
    "    model.eval()\n",
    "    all_preds, all_targets = [], []\n",
    "    with torch.no_grad():\n",
    "        for inputs, targets in tqdm.tqdm(data_loader, desc=\"Evaluating\", leave=False):\n",
    "            inputs = pad_inputs(inputs).to(device)\n",
    "            targets = targets.to(device)\n",
    "            outputs = model(inputs)\n",
    "            _, preds = torch.max(outputs, 1)\n",
    "            all_preds.extend(preds.cpu().numpy())\n",
    "            all_targets.extend(targets.cpu().numpy())\n",
    "    return accuracy_score(all_targets, all_preds)\n",
    "\n",
    "def count_parameters(model):\n",
    "    return sum(p.numel() for p in model.parameters() if p.requires_grad)\n",
    "\n",
    "def calculate_flops(model, input_size=(1, 16000)):\n",
    "    macs, params = get_model_complexity_info(\n",
    "        model, input_size, as_strings=False, print_per_layer_stat=False\n",
    "    )\n",
    "    flops = macs * 2 if macs is not None else 0\n",
    "    return {'flops': flops, 'params': params}"
   ]
  },
  {
   "cell_type": "code",
   "execution_count": 33,
   "metadata": {},
   "outputs": [
    {
     "name": "stdout",
     "output_type": "stream",
     "text": [
      "Fri Mar 28 16:54:06 2025       \n",
      "+---------------------------------------------------------------------------------------+\n",
      "| NVIDIA-SMI 535.154.05             Driver Version: 535.154.05   CUDA Version: 12.3     |\n",
      "|-----------------------------------------+----------------------+----------------------+\n",
      "| GPU  Name                 Persistence-M | Bus-Id        Disp.A | Volatile Uncorr. ECC |\n",
      "| Fan  Temp   Perf          Pwr:Usage/Cap |         Memory-Usage | GPU-Util  Compute M. |\n",
      "|                                         |                      |               MIG M. |\n",
      "|=========================================+======================+======================|\n",
      "|   0  NVIDIA A100-SXM4-80GB          On  | 00000000:2A:00.0 Off |                    0 |\n",
      "| N/A   27C    P0              76W / 400W |  13320MiB / 81920MiB |      0%      Default |\n",
      "|                                         |                      |             Disabled |\n",
      "+-----------------------------------------+----------------------+----------------------+\n",
      "                                                                                         \n",
      "+---------------------------------------------------------------------------------------+\n",
      "| Processes:                                                                            |\n",
      "|  GPU   GI   CI        PID   Type   Process name                            GPU Memory |\n",
      "|        ID   ID                                                             Usage      |\n",
      "|=======================================================================================|\n",
      "|    0   N/A  N/A   1356279      C   python                                    12070MiB |\n",
      "|    0   N/A  N/A   1400832      C   ...vyan/.mlspace/envs/aidao/bin/python      586MiB |\n",
      "|    0   N/A  N/A   1409830      C   ...vyan/.mlspace/envs/aidao/bin/python      644MiB |\n",
      "+---------------------------------------------------------------------------------------+\n"
     ]
    }
   ],
   "source": [
    "!nvidia-smi"
   ]
  },
  {
   "cell_type": "code",
   "execution_count": 34,
   "metadata": {},
   "outputs": [
    {
     "name": "stdout",
     "output_type": "stream",
     "text": [
      "\n",
      "Training model with n_mels=20 and groups=1\n",
      "Parameters: 2,082, FLOPs: 1,245,260\n"
     ]
    },
    {
     "name": "stderr",
     "output_type": "stream",
     "text": [
      "Epoch 1/5:   0%|          | 0/100 [00:00<?, ?it/s]"
     ]
    },
    {
     "name": "stderr",
     "output_type": "stream",
     "text": [
      "Epoch 1/5: 100%|██████████| 100/100 [00:05<00:00, 17.89it/s, loss=0.2158]\n",
      "                                                           \r"
     ]
    },
    {
     "name": "stdout",
     "output_type": "stream",
     "text": [
      "Epoch 1/5 - Loss: 0.4202 - Val Acc: 0.8879 - Time: 5.59s\n"
     ]
    },
    {
     "name": "stderr",
     "output_type": "stream",
     "text": [
      "Epoch 2/5: 100%|██████████| 100/100 [00:05<00:00, 16.90it/s, loss=0.5160]\n",
      "                                                           \r"
     ]
    },
    {
     "name": "stdout",
     "output_type": "stream",
     "text": [
      "Epoch 2/5 - Loss: 0.2647 - Val Acc: 0.9091 - Time: 5.92s\n"
     ]
    },
    {
     "name": "stderr",
     "output_type": "stream",
     "text": [
      "Epoch 3/5: 100%|██████████| 100/100 [00:05<00:00, 17.38it/s, loss=0.1939]\n",
      "                                                           \r"
     ]
    },
    {
     "name": "stdout",
     "output_type": "stream",
     "text": [
      "Epoch 3/5 - Loss: 0.2282 - Val Acc: 0.9278 - Time: 5.75s\n"
     ]
    },
    {
     "name": "stderr",
     "output_type": "stream",
     "text": [
      "Epoch 4/5: 100%|██████████| 100/100 [00:05<00:00, 18.28it/s, loss=0.4613]\n",
      "                                                           \r"
     ]
    },
    {
     "name": "stdout",
     "output_type": "stream",
     "text": [
      "Epoch 4/5 - Loss: 0.2091 - Val Acc: 0.9390 - Time: 5.47s\n"
     ]
    },
    {
     "name": "stderr",
     "output_type": "stream",
     "text": [
      "Epoch 5/5: 100%|██████████| 100/100 [00:05<00:00, 17.95it/s, loss=0.3944]\n",
      "                                                           \r"
     ]
    },
    {
     "name": "stdout",
     "output_type": "stream",
     "text": [
      "Epoch 5/5 - Loss: 0.1928 - Val Acc: 0.9427 - Time: 5.57s\n"
     ]
    },
    {
     "name": "stderr",
     "output_type": "stream",
     "text": [
      "                                                           \r"
     ]
    },
    {
     "name": "stdout",
     "output_type": "stream",
     "text": [
      "Test Accuracy: 0.9466\n",
      "\n",
      "Training model with n_mels=20 and groups=2\n",
      "Parameters: 1,122, FLOPs: 1,051,340\n"
     ]
    },
    {
     "name": "stderr",
     "output_type": "stream",
     "text": [
      "Epoch 1/5: 100%|██████████| 100/100 [00:05<00:00, 18.27it/s, loss=0.3256]\n",
      "                                                           \r"
     ]
    },
    {
     "name": "stdout",
     "output_type": "stream",
     "text": [
      "Epoch 1/5 - Loss: 0.4880 - Val Acc: 0.8755 - Time: 5.48s\n"
     ]
    },
    {
     "name": "stderr",
     "output_type": "stream",
     "text": [
      "Epoch 2/5: 100%|██████████| 100/100 [00:05<00:00, 18.63it/s, loss=0.2758]\n",
      "                                                           \r"
     ]
    },
    {
     "name": "stdout",
     "output_type": "stream",
     "text": [
      "Epoch 2/5 - Loss: 0.3095 - Val Acc: 0.9166 - Time: 5.37s\n"
     ]
    },
    {
     "name": "stderr",
     "output_type": "stream",
     "text": [
      "Epoch 3/5: 100%|██████████| 100/100 [00:05<00:00, 18.44it/s, loss=0.2688]\n",
      "                                                           \r"
     ]
    },
    {
     "name": "stdout",
     "output_type": "stream",
     "text": [
      "Epoch 3/5 - Loss: 0.2495 - Val Acc: 0.9166 - Time: 5.43s\n"
     ]
    },
    {
     "name": "stderr",
     "output_type": "stream",
     "text": [
      "Epoch 4/5: 100%|██████████| 100/100 [00:05<00:00, 17.93it/s, loss=0.2640]\n",
      "                                                           \r"
     ]
    },
    {
     "name": "stdout",
     "output_type": "stream",
     "text": [
      "Epoch 4/5 - Loss: 0.2330 - Val Acc: 0.9191 - Time: 5.58s\n"
     ]
    },
    {
     "name": "stderr",
     "output_type": "stream",
     "text": [
      "Epoch 5/5: 100%|██████████| 100/100 [00:06<00:00, 16.08it/s, loss=0.3646]\n",
      "                                                           \r"
     ]
    },
    {
     "name": "stdout",
     "output_type": "stream",
     "text": [
      "Epoch 5/5 - Loss: 0.2165 - Val Acc: 0.9240 - Time: 6.22s\n"
     ]
    },
    {
     "name": "stderr",
     "output_type": "stream",
     "text": [
      "                                                           \r"
     ]
    },
    {
     "name": "stdout",
     "output_type": "stream",
     "text": [
      "Test Accuracy: 0.9260\n",
      "\n",
      "Training model with n_mels=20 and groups=4\n",
      "Parameters: 642, FLOPs: 954,380\n"
     ]
    },
    {
     "name": "stderr",
     "output_type": "stream",
     "text": [
      "Epoch 1/5: 100%|██████████| 100/100 [00:05<00:00, 18.26it/s, loss=0.5526]\n",
      "                                                           \r"
     ]
    },
    {
     "name": "stdout",
     "output_type": "stream",
     "text": [
      "Epoch 1/5 - Loss: 0.5946 - Val Acc: 0.8132 - Time: 5.48s\n"
     ]
    },
    {
     "name": "stderr",
     "output_type": "stream",
     "text": [
      "Epoch 2/5: 100%|██████████| 100/100 [00:05<00:00, 16.72it/s, loss=0.4515]\n",
      "                                                           \r"
     ]
    },
    {
     "name": "stdout",
     "output_type": "stream",
     "text": [
      "Epoch 2/5 - Loss: 0.4147 - Val Acc: 0.8742 - Time: 5.98s\n"
     ]
    },
    {
     "name": "stderr",
     "output_type": "stream",
     "text": [
      "Epoch 3/5: 100%|██████████| 100/100 [00:05<00:00, 17.98it/s, loss=0.2689]\n",
      "                                                           \r"
     ]
    },
    {
     "name": "stdout",
     "output_type": "stream",
     "text": [
      "Epoch 3/5 - Loss: 0.3295 - Val Acc: 0.8917 - Time: 5.56s\n"
     ]
    },
    {
     "name": "stderr",
     "output_type": "stream",
     "text": [
      "Epoch 4/5: 100%|██████████| 100/100 [00:06<00:00, 15.99it/s, loss=0.1510]\n",
      "                                                           \r"
     ]
    },
    {
     "name": "stdout",
     "output_type": "stream",
     "text": [
      "Epoch 4/5 - Loss: 0.2954 - Val Acc: 0.8941 - Time: 6.26s\n"
     ]
    },
    {
     "name": "stderr",
     "output_type": "stream",
     "text": [
      "Epoch 5/5: 100%|██████████| 100/100 [00:05<00:00, 17.07it/s, loss=0.2407]\n",
      "                                                           \r"
     ]
    },
    {
     "name": "stdout",
     "output_type": "stream",
     "text": [
      "Epoch 5/5 - Loss: 0.2699 - Val Acc: 0.9041 - Time: 5.86s\n"
     ]
    },
    {
     "name": "stderr",
     "output_type": "stream",
     "text": [
      "                                                           \r"
     ]
    },
    {
     "name": "stdout",
     "output_type": "stream",
     "text": [
      "Test Accuracy: 0.8920\n",
      "Skipping n_mels=20 with groups=8 (invalid combination)\n",
      "Skipping n_mels=20 with groups=16 (invalid combination)\n",
      "\n",
      "Training model with n_mels=40 and groups=1\n",
      "Parameters: 4,002, FLOPs: 2,445,140\n"
     ]
    },
    {
     "name": "stderr",
     "output_type": "stream",
     "text": [
      "Epoch 1/5: 100%|██████████| 100/100 [00:05<00:00, 18.39it/s, loss=0.3020]\n",
      "                                                           \r"
     ]
    },
    {
     "name": "stdout",
     "output_type": "stream",
     "text": [
      "Epoch 1/5 - Loss: 0.4374 - Val Acc: 0.8917 - Time: 5.44s\n"
     ]
    },
    {
     "name": "stderr",
     "output_type": "stream",
     "text": [
      "Epoch 2/5: 100%|██████████| 100/100 [00:05<00:00, 17.35it/s, loss=0.2376]\n",
      "                                                           \r"
     ]
    },
    {
     "name": "stdout",
     "output_type": "stream",
     "text": [
      "Epoch 2/5 - Loss: 0.2690 - Val Acc: 0.9290 - Time: 5.77s\n"
     ]
    },
    {
     "name": "stderr",
     "output_type": "stream",
     "text": [
      "Epoch 3/5: 100%|██████████| 100/100 [00:05<00:00, 17.16it/s, loss=0.1698]\n",
      "                                                           \r"
     ]
    },
    {
     "name": "stdout",
     "output_type": "stream",
     "text": [
      "Epoch 3/5 - Loss: 0.2265 - Val Acc: 0.9091 - Time: 5.83s\n"
     ]
    },
    {
     "name": "stderr",
     "output_type": "stream",
     "text": [
      "Epoch 4/5: 100%|██████████| 100/100 [00:05<00:00, 17.75it/s, loss=0.2202]\n",
      "                                                           \r"
     ]
    },
    {
     "name": "stdout",
     "output_type": "stream",
     "text": [
      "Epoch 4/5 - Loss: 0.2169 - Val Acc: 0.9352 - Time: 5.64s\n"
     ]
    },
    {
     "name": "stderr",
     "output_type": "stream",
     "text": [
      "Epoch 5/5: 100%|██████████| 100/100 [00:05<00:00, 17.05it/s, loss=0.2292]\n",
      "                                                           \r"
     ]
    },
    {
     "name": "stdout",
     "output_type": "stream",
     "text": [
      "Epoch 5/5 - Loss: 0.1971 - Val Acc: 0.9278 - Time: 5.87s\n"
     ]
    },
    {
     "name": "stderr",
     "output_type": "stream",
     "text": [
      "                                                           \r"
     ]
    },
    {
     "name": "stdout",
     "output_type": "stream",
     "text": [
      "Test Accuracy: 0.9442\n",
      "\n",
      "Training model with n_mels=40 and groups=2\n",
      "Parameters: 2,082, FLOPs: 2,057,300\n"
     ]
    },
    {
     "name": "stderr",
     "output_type": "stream",
     "text": [
      "Epoch 1/5: 100%|██████████| 100/100 [00:05<00:00, 17.03it/s, loss=0.4407]\n",
      "                                                           \r"
     ]
    },
    {
     "name": "stdout",
     "output_type": "stream",
     "text": [
      "Epoch 1/5 - Loss: 0.4713 - Val Acc: 0.8854 - Time: 5.88s\n"
     ]
    },
    {
     "name": "stderr",
     "output_type": "stream",
     "text": [
      "Epoch 2/5: 100%|██████████| 100/100 [00:05<00:00, 17.46it/s, loss=0.2274]\n",
      "                                                           \r"
     ]
    },
    {
     "name": "stdout",
     "output_type": "stream",
     "text": [
      "Epoch 2/5 - Loss: 0.3044 - Val Acc: 0.8804 - Time: 5.73s\n"
     ]
    },
    {
     "name": "stderr",
     "output_type": "stream",
     "text": [
      "Epoch 3/5: 100%|██████████| 100/100 [00:05<00:00, 17.30it/s, loss=0.2280]\n",
      "                                                           \r"
     ]
    },
    {
     "name": "stdout",
     "output_type": "stream",
     "text": [
      "Epoch 3/5 - Loss: 0.2525 - Val Acc: 0.9215 - Time: 5.78s\n"
     ]
    },
    {
     "name": "stderr",
     "output_type": "stream",
     "text": [
      "Epoch 4/5: 100%|██████████| 100/100 [00:05<00:00, 17.01it/s, loss=0.3602]\n",
      "                                                           \r"
     ]
    },
    {
     "name": "stdout",
     "output_type": "stream",
     "text": [
      "Epoch 4/5 - Loss: 0.2296 - Val Acc: 0.9128 - Time: 5.88s\n"
     ]
    },
    {
     "name": "stderr",
     "output_type": "stream",
     "text": [
      "Epoch 5/5: 100%|██████████| 100/100 [00:05<00:00, 17.62it/s, loss=0.2468]\n",
      "                                                           \r"
     ]
    },
    {
     "name": "stdout",
     "output_type": "stream",
     "text": [
      "Epoch 5/5 - Loss: 0.2175 - Val Acc: 0.9078 - Time: 5.68s\n"
     ]
    },
    {
     "name": "stderr",
     "output_type": "stream",
     "text": [
      "                                                           \r"
     ]
    },
    {
     "name": "stdout",
     "output_type": "stream",
     "text": [
      "Test Accuracy: 0.9284\n",
      "\n",
      "Training model with n_mels=40 and groups=4\n",
      "Parameters: 1,122, FLOPs: 1,863,380\n"
     ]
    },
    {
     "name": "stderr",
     "output_type": "stream",
     "text": [
      "Epoch 1/5: 100%|██████████| 100/100 [00:05<00:00, 16.91it/s, loss=0.5062]\n",
      "                                                           \r"
     ]
    },
    {
     "name": "stdout",
     "output_type": "stream",
     "text": [
      "Epoch 1/5 - Loss: 0.5253 - Val Acc: 0.8730 - Time: 5.91s\n"
     ]
    },
    {
     "name": "stderr",
     "output_type": "stream",
     "text": [
      "Epoch 2/5: 100%|██████████| 100/100 [00:05<00:00, 17.34it/s, loss=0.2403]\n",
      "                                                           \r"
     ]
    },
    {
     "name": "stdout",
     "output_type": "stream",
     "text": [
      "Epoch 2/5 - Loss: 0.3486 - Val Acc: 0.8867 - Time: 5.77s\n"
     ]
    },
    {
     "name": "stderr",
     "output_type": "stream",
     "text": [
      "Epoch 3/5: 100%|██████████| 100/100 [00:05<00:00, 17.94it/s, loss=0.2509]\n",
      "                                                           \r"
     ]
    },
    {
     "name": "stdout",
     "output_type": "stream",
     "text": [
      "Epoch 3/5 - Loss: 0.2825 - Val Acc: 0.8804 - Time: 5.58s\n"
     ]
    },
    {
     "name": "stderr",
     "output_type": "stream",
     "text": [
      "Epoch 4/5: 100%|██████████| 100/100 [00:05<00:00, 18.15it/s, loss=0.4490]\n",
      "                                                           \r"
     ]
    },
    {
     "name": "stdout",
     "output_type": "stream",
     "text": [
      "Epoch 4/5 - Loss: 0.2557 - Val Acc: 0.8991 - Time: 5.51s\n"
     ]
    },
    {
     "name": "stderr",
     "output_type": "stream",
     "text": [
      "Epoch 5/5: 100%|██████████| 100/100 [00:05<00:00, 17.64it/s, loss=0.2392]\n",
      "                                                           \r"
     ]
    },
    {
     "name": "stdout",
     "output_type": "stream",
     "text": [
      "Epoch 5/5 - Loss: 0.2449 - Val Acc: 0.9029 - Time: 5.67s\n"
     ]
    },
    {
     "name": "stderr",
     "output_type": "stream",
     "text": [
      "                                                           \r"
     ]
    },
    {
     "name": "stdout",
     "output_type": "stream",
     "text": [
      "Test Accuracy: 0.9320\n",
      "\n",
      "Training model with n_mels=40 and groups=8\n",
      "Parameters: 642, FLOPs: 1,766,420\n"
     ]
    },
    {
     "name": "stderr",
     "output_type": "stream",
     "text": [
      "Epoch 1/5: 100%|██████████| 100/100 [00:05<00:00, 17.14it/s, loss=0.6257]\n",
      "                                                           \r"
     ]
    },
    {
     "name": "stdout",
     "output_type": "stream",
     "text": [
      "Epoch 1/5 - Loss: 0.5986 - Val Acc: 0.8244 - Time: 5.84s\n"
     ]
    },
    {
     "name": "stderr",
     "output_type": "stream",
     "text": [
      "Epoch 2/5: 100%|██████████| 100/100 [00:05<00:00, 17.76it/s, loss=0.3689]\n",
      "                                                           \r"
     ]
    },
    {
     "name": "stdout",
     "output_type": "stream",
     "text": [
      "Epoch 2/5 - Loss: 0.4431 - Val Acc: 0.8705 - Time: 5.63s\n"
     ]
    },
    {
     "name": "stderr",
     "output_type": "stream",
     "text": [
      "Epoch 3/5: 100%|██████████| 100/100 [00:05<00:00, 17.34it/s, loss=0.3693]\n",
      "                                                           \r"
     ]
    },
    {
     "name": "stdout",
     "output_type": "stream",
     "text": [
      "Epoch 3/5 - Loss: 0.3594 - Val Acc: 0.8717 - Time: 5.77s\n"
     ]
    },
    {
     "name": "stderr",
     "output_type": "stream",
     "text": [
      "Epoch 4/5: 100%|██████████| 100/100 [00:05<00:00, 17.62it/s, loss=0.2550]\n",
      "                                                           \r"
     ]
    },
    {
     "name": "stdout",
     "output_type": "stream",
     "text": [
      "Epoch 4/5 - Loss: 0.3119 - Val Acc: 0.8804 - Time: 5.68s\n"
     ]
    },
    {
     "name": "stderr",
     "output_type": "stream",
     "text": [
      "Epoch 5/5: 100%|██████████| 100/100 [00:05<00:00, 17.67it/s, loss=0.2760]\n",
      "                                                           \r"
     ]
    },
    {
     "name": "stdout",
     "output_type": "stream",
     "text": [
      "Epoch 5/5 - Loss: 0.2879 - Val Acc: 0.8804 - Time: 5.66s\n"
     ]
    },
    {
     "name": "stderr",
     "output_type": "stream",
     "text": [
      "                                                           \r"
     ]
    },
    {
     "name": "stdout",
     "output_type": "stream",
     "text": [
      "Test Accuracy: 0.8920\n",
      "Skipping n_mels=40 with groups=16 (invalid combination)\n",
      "\n",
      "Training model with n_mels=80 and groups=1\n",
      "Parameters: 7,842, FLOPs: 4,844,900\n"
     ]
    },
    {
     "name": "stderr",
     "output_type": "stream",
     "text": [
      "Epoch 1/5: 100%|██████████| 100/100 [00:05<00:00, 17.49it/s, loss=0.1829]\n",
      "                                                           \r"
     ]
    },
    {
     "name": "stdout",
     "output_type": "stream",
     "text": [
      "Epoch 1/5 - Loss: 0.3526 - Val Acc: 0.9116 - Time: 5.72s\n"
     ]
    },
    {
     "name": "stderr",
     "output_type": "stream",
     "text": [
      "Epoch 2/5: 100%|██████████| 100/100 [00:05<00:00, 17.94it/s, loss=0.1731]\n",
      "                                                           \r"
     ]
    },
    {
     "name": "stdout",
     "output_type": "stream",
     "text": [
      "Epoch 2/5 - Loss: 0.2352 - Val Acc: 0.9290 - Time: 5.58s\n"
     ]
    },
    {
     "name": "stderr",
     "output_type": "stream",
     "text": [
      "Epoch 3/5: 100%|██████████| 100/100 [00:05<00:00, 18.09it/s, loss=0.0621]\n",
      "                                                           \r"
     ]
    },
    {
     "name": "stdout",
     "output_type": "stream",
     "text": [
      "Epoch 3/5 - Loss: 0.2115 - Val Acc: 0.9166 - Time: 5.53s\n"
     ]
    },
    {
     "name": "stderr",
     "output_type": "stream",
     "text": [
      "Epoch 4/5: 100%|██████████| 100/100 [00:05<00:00, 18.09it/s, loss=0.1951]\n",
      "                                                           \r"
     ]
    },
    {
     "name": "stdout",
     "output_type": "stream",
     "text": [
      "Epoch 4/5 - Loss: 0.1879 - Val Acc: 0.8991 - Time: 5.53s\n"
     ]
    },
    {
     "name": "stderr",
     "output_type": "stream",
     "text": [
      "Epoch 5/5: 100%|██████████| 100/100 [00:05<00:00, 17.49it/s, loss=0.2930]\n",
      "                                                           \r"
     ]
    },
    {
     "name": "stdout",
     "output_type": "stream",
     "text": [
      "Epoch 5/5 - Loss: 0.1732 - Val Acc: 0.9427 - Time: 5.72s\n"
     ]
    },
    {
     "name": "stderr",
     "output_type": "stream",
     "text": [
      "                                                           \r"
     ]
    },
    {
     "name": "stdout",
     "output_type": "stream",
     "text": [
      "Test Accuracy: 0.9417\n",
      "\n",
      "Training model with n_mels=80 and groups=2\n",
      "Parameters: 4,002, FLOPs: 4,069,220\n"
     ]
    },
    {
     "name": "stderr",
     "output_type": "stream",
     "text": [
      "Epoch 1/5: 100%|██████████| 100/100 [00:05<00:00, 17.49it/s, loss=0.3462]\n",
      "                                                           \r"
     ]
    },
    {
     "name": "stdout",
     "output_type": "stream",
     "text": [
      "Epoch 1/5 - Loss: 0.4250 - Val Acc: 0.9004 - Time: 5.72s\n"
     ]
    },
    {
     "name": "stderr",
     "output_type": "stream",
     "text": [
      "Epoch 2/5: 100%|██████████| 100/100 [00:05<00:00, 17.44it/s, loss=0.2953]\n",
      "                                                           \r"
     ]
    },
    {
     "name": "stdout",
     "output_type": "stream",
     "text": [
      "Epoch 2/5 - Loss: 0.2902 - Val Acc: 0.8917 - Time: 5.74s\n"
     ]
    },
    {
     "name": "stderr",
     "output_type": "stream",
     "text": [
      "Epoch 3/5: 100%|██████████| 100/100 [00:05<00:00, 17.46it/s, loss=0.3630]\n",
      "                                                           \r"
     ]
    },
    {
     "name": "stdout",
     "output_type": "stream",
     "text": [
      "Epoch 3/5 - Loss: 0.2480 - Val Acc: 0.8979 - Time: 5.73s\n"
     ]
    },
    {
     "name": "stderr",
     "output_type": "stream",
     "text": [
      "Epoch 4/5: 100%|██████████| 100/100 [00:05<00:00, 17.40it/s, loss=0.4357]\n",
      "                                                           \r"
     ]
    },
    {
     "name": "stdout",
     "output_type": "stream",
     "text": [
      "Epoch 4/5 - Loss: 0.2266 - Val Acc: 0.9116 - Time: 5.75s\n"
     ]
    },
    {
     "name": "stderr",
     "output_type": "stream",
     "text": [
      "Epoch 5/5: 100%|██████████| 100/100 [00:05<00:00, 17.92it/s, loss=0.3169]\n",
      "                                                           \r"
     ]
    },
    {
     "name": "stdout",
     "output_type": "stream",
     "text": [
      "Epoch 5/5 - Loss: 0.2178 - Val Acc: 0.7933 - Time: 5.58s\n"
     ]
    },
    {
     "name": "stderr",
     "output_type": "stream",
     "text": [
      "                                                           \r"
     ]
    },
    {
     "name": "stdout",
     "output_type": "stream",
     "text": [
      "Test Accuracy: 0.7961\n",
      "\n",
      "Training model with n_mels=80 and groups=4\n",
      "Parameters: 2,082, FLOPs: 3,681,380\n"
     ]
    },
    {
     "name": "stderr",
     "output_type": "stream",
     "text": [
      "Epoch 1/5: 100%|██████████| 100/100 [00:05<00:00, 17.32it/s, loss=0.3673]\n",
      "                                                           \r"
     ]
    },
    {
     "name": "stdout",
     "output_type": "stream",
     "text": [
      "Epoch 1/5 - Loss: 0.5256 - Val Acc: 0.8406 - Time: 5.78s\n"
     ]
    },
    {
     "name": "stderr",
     "output_type": "stream",
     "text": [
      "Epoch 2/5: 100%|██████████| 100/100 [00:05<00:00, 17.17it/s, loss=0.4457]\n",
      "                                                           \r"
     ]
    },
    {
     "name": "stdout",
     "output_type": "stream",
     "text": [
      "Epoch 2/5 - Loss: 0.3652 - Val Acc: 0.8580 - Time: 5.83s\n"
     ]
    },
    {
     "name": "stderr",
     "output_type": "stream",
     "text": [
      "Epoch 3/5: 100%|██████████| 100/100 [00:05<00:00, 17.94it/s, loss=0.6581]\n",
      "                                                           \r"
     ]
    },
    {
     "name": "stdout",
     "output_type": "stream",
     "text": [
      "Epoch 3/5 - Loss: 0.2992 - Val Acc: 0.7024 - Time: 5.58s\n"
     ]
    },
    {
     "name": "stderr",
     "output_type": "stream",
     "text": [
      "Epoch 4/5: 100%|██████████| 100/100 [00:05<00:00, 17.75it/s, loss=0.1921]\n",
      "                                                           \r"
     ]
    },
    {
     "name": "stdout",
     "output_type": "stream",
     "text": [
      "Epoch 4/5 - Loss: 0.2760 - Val Acc: 0.8867 - Time: 5.64s\n"
     ]
    },
    {
     "name": "stderr",
     "output_type": "stream",
     "text": [
      "Epoch 5/5: 100%|██████████| 100/100 [00:05<00:00, 17.32it/s, loss=0.3352]\n",
      "                                                           \r"
     ]
    },
    {
     "name": "stdout",
     "output_type": "stream",
     "text": [
      "Epoch 5/5 - Loss: 0.2545 - Val Acc: 0.8979 - Time: 5.78s\n"
     ]
    },
    {
     "name": "stderr",
     "output_type": "stream",
     "text": [
      "                                                           \r"
     ]
    },
    {
     "name": "stdout",
     "output_type": "stream",
     "text": [
      "Test Accuracy: 0.9175\n",
      "\n",
      "Training model with n_mels=80 and groups=8\n",
      "Parameters: 1,122, FLOPs: 3,487,460\n"
     ]
    },
    {
     "name": "stderr",
     "output_type": "stream",
     "text": [
      "Epoch 1/5: 100%|██████████| 100/100 [00:05<00:00, 17.72it/s, loss=0.4049]\n",
      "                                                           \r"
     ]
    },
    {
     "name": "stdout",
     "output_type": "stream",
     "text": [
      "Epoch 1/5 - Loss: 0.5236 - Val Acc: 0.8755 - Time: 5.65s\n"
     ]
    },
    {
     "name": "stderr",
     "output_type": "stream",
     "text": [
      "Epoch 2/5: 100%|██████████| 100/100 [00:05<00:00, 17.46it/s, loss=0.3756]\n",
      "                                                           \r"
     ]
    },
    {
     "name": "stdout",
     "output_type": "stream",
     "text": [
      "Epoch 2/5 - Loss: 0.3774 - Val Acc: 0.8879 - Time: 5.73s\n"
     ]
    },
    {
     "name": "stderr",
     "output_type": "stream",
     "text": [
      "Epoch 3/5: 100%|██████████| 100/100 [00:05<00:00, 17.80it/s, loss=0.3079]\n",
      "                                                           \r"
     ]
    },
    {
     "name": "stdout",
     "output_type": "stream",
     "text": [
      "Epoch 3/5 - Loss: 0.3154 - Val Acc: 0.8667 - Time: 5.62s\n"
     ]
    },
    {
     "name": "stderr",
     "output_type": "stream",
     "text": [
      "Epoch 4/5: 100%|██████████| 100/100 [00:05<00:00, 17.67it/s, loss=0.2143]\n",
      "                                                           \r"
     ]
    },
    {
     "name": "stdout",
     "output_type": "stream",
     "text": [
      "Epoch 4/5 - Loss: 0.2850 - Val Acc: 0.8892 - Time: 5.66s\n"
     ]
    },
    {
     "name": "stderr",
     "output_type": "stream",
     "text": [
      "Epoch 5/5: 100%|██████████| 100/100 [00:05<00:00, 17.80it/s, loss=0.2324]\n",
      "                                                           \r"
     ]
    },
    {
     "name": "stdout",
     "output_type": "stream",
     "text": [
      "Epoch 5/5 - Loss: 0.2669 - Val Acc: 0.8941 - Time: 5.62s\n"
     ]
    },
    {
     "name": "stderr",
     "output_type": "stream",
     "text": [
      "                                                           \r"
     ]
    },
    {
     "name": "stdout",
     "output_type": "stream",
     "text": [
      "Test Accuracy: 0.9284\n",
      "\n",
      "Training model with n_mels=80 and groups=16\n",
      "Parameters: 642, FLOPs: 3,390,500\n"
     ]
    },
    {
     "name": "stderr",
     "output_type": "stream",
     "text": [
      "Epoch 1/5: 100%|██████████| 100/100 [00:05<00:00, 17.66it/s, loss=0.4684]\n",
      "                                                           \r"
     ]
    },
    {
     "name": "stdout",
     "output_type": "stream",
     "text": [
      "Epoch 1/5 - Loss: 0.5576 - Val Acc: 0.8568 - Time: 5.70s\n"
     ]
    },
    {
     "name": "stderr",
     "output_type": "stream",
     "text": [
      "Epoch 2/5: 100%|██████████| 100/100 [00:05<00:00, 18.12it/s, loss=0.3840]\n",
      "                                                           \r"
     ]
    },
    {
     "name": "stdout",
     "output_type": "stream",
     "text": [
      "Epoch 2/5 - Loss: 0.4362 - Val Acc: 0.8792 - Time: 5.52s\n"
     ]
    },
    {
     "name": "stderr",
     "output_type": "stream",
     "text": [
      "Epoch 3/5: 100%|██████████| 100/100 [00:05<00:00, 18.07it/s, loss=0.4219]\n",
      "                                                           \r"
     ]
    },
    {
     "name": "stdout",
     "output_type": "stream",
     "text": [
      "Epoch 3/5 - Loss: 0.3699 - Val Acc: 0.8630 - Time: 5.54s\n"
     ]
    },
    {
     "name": "stderr",
     "output_type": "stream",
     "text": [
      "Epoch 4/5: 100%|██████████| 100/100 [00:05<00:00, 17.57it/s, loss=0.3924]\n",
      "                                                           \r"
     ]
    },
    {
     "name": "stdout",
     "output_type": "stream",
     "text": [
      "Epoch 4/5 - Loss: 0.3319 - Val Acc: 0.8780 - Time: 5.69s\n"
     ]
    },
    {
     "name": "stderr",
     "output_type": "stream",
     "text": [
      "Epoch 5/5: 100%|██████████| 100/100 [00:05<00:00, 18.17it/s, loss=0.3233]\n",
      "                                                           \r"
     ]
    },
    {
     "name": "stdout",
     "output_type": "stream",
     "text": [
      "Epoch 5/5 - Loss: 0.3095 - Val Acc: 0.8692 - Time: 5.51s\n"
     ]
    },
    {
     "name": "stderr",
     "output_type": "stream",
     "text": [
      "                                                           "
     ]
    },
    {
     "name": "stdout",
     "output_type": "stream",
     "text": [
      "Test Accuracy: 0.8653\n"
     ]
    },
    {
     "name": "stderr",
     "output_type": "stream",
     "text": [
      "\r"
     ]
    }
   ],
   "source": [
    "device = torch.device(\"cuda\" if torch.cuda.is_available() else \"cpu\")\n",
    "num_epochs = 5\n",
    "learning_rate = 0.001\n",
    "\n",
    "results = {} \n",
    "\n",
    "n_mels_list = [20, 40, 80]\n",
    "groups_list = [1, 2, 4, 8, 16]\n",
    "\n",
    "for n_mels in n_mels_list:\n",
    "    for groups in groups_list:\n",
    "        if n_mels % groups != 0:\n",
    "            print(f\"Skipping n_mels={n_mels} with groups={groups} (invalid combination)\")\n",
    "            continue\n",
    "        print(f\"\\nTraining model with n_mels={n_mels} and groups={groups}\")\n",
    "        model = CNNClassifier(n_mels=n_mels, groups=groups)\n",
    "        criterion = nn.CrossEntropyLoss()\n",
    "        optimizer = torch.optim.Adam(model.parameters(), lr=learning_rate)\n",
    "        \n",
    "        num_params = count_parameters(model)\n",
    "        comp_info = calculate_flops(model)\n",
    "        print(f\"Parameters: {num_params:,}, FLOPs: {comp_info['flops']:,}\")\n",
    "        \n",
    "        history = train_model(model, train_loader, val_loader, criterion, optimizer, device, num_epochs)\n",
    "        test_acc = evaluate_model(model, test_loader, device)\n",
    "        print(f\"Test Accuracy: {test_acc:.4f}\")\n",
    "        \n",
    "        results[(n_mels, groups)] = {\n",
    "            'history': history,\n",
    "            'test_accuracy': test_acc,\n",
    "            'params': num_params,\n",
    "            'flops': comp_info['flops']\n",
    "        }"
   ]
  },
  {
   "cell_type": "code",
   "execution_count": null,
   "metadata": {},
   "outputs": [],
   "source": [
    "fig = go.Figure()\n",
    "for group in sorted(set(g for _, g in results.keys())):\n",
    "    data = []\n",
    "    for (n_mels, groups), res in sorted(results.items()):\n",
    "        if groups == group:\n",
    "            data.append({\"n_mels\": n_mels, \"accuracy\": res['test_accuracy']})\n",
    "    \n",
    "    if data:\n",
    "        df = pd.DataFrame(data)\n",
    "        fig.add_trace(go.Scatter(\n",
    "            x=df[\"n_mels\"],\n",
    "            y=df[\"accuracy\"],\n",
    "            mode='lines+markers',\n",
    "            name=f\"groups={group}\"\n",
    "        ))\n",
    "\n",
    "fig.update_layout(\n",
    "    title=\"Test Accuracy vs n_mels (for different groups)\",\n",
    "    xaxis_title=\"Number of Mel Filterbanks (n_mels)\",\n",
    "    yaxis_title=\"Test Accuracy\",\n",
    "    legend_title=\"Groups\",\n",
    "    xaxis=dict(tickmode='array', tickvals=n_mels_list),\n",
    "    legend=dict(orientation=\"h\", yanchor=\"bottom\", y=1.02, xanchor=\"right\", x=1)\n",
    ")\n",
    "fig.show()\n",
    "\n",
    "fig = go.Figure()\n",
    "for (n_mels, groups), res in results.items():\n",
    "    if groups == 1:  # fix groups\n",
    "        fig.add_trace(go.Scatter(\n",
    "            x=list(range(len(res['history']['train_loss']))),\n",
    "            y=res['history']['train_loss'],\n",
    "            mode='lines',\n",
    "            name=f\"n_mels={n_mels}\"\n",
    "        ))\n",
    "fig.update_layout(\n",
    "    title=\"Training Loss Comparison (groups=1)\",\n",
    "    xaxis_title=\"Epoch\",\n",
    "    yaxis_title=\"Train Loss\",\n",
    "    legend_title=\"n_mels\"\n",
    ")\n",
    "fig.show()\n",
    "\n",
    "accs = []\n",
    "for (n_mels, groups), res in sorted(results.items()):\n",
    "    if groups == 1:\n",
    "        accs.append({\"n_mels\": n_mels, \"accuracy\": res['test_accuracy']})\n",
    "if accs:\n",
    "    df = pd.DataFrame(accs)\n",
    "    fig = px.line(df, x=\"n_mels\", y=\"accuracy\", markers=True)\n",
    "    fig.update_layout(\n",
    "        title=\"Test Accuracy vs n_mels (groups=1)\",\n",
    "        xaxis_title=\"n_mels\",\n",
    "        yaxis_title=\"Test Accuracy\"\n",
    "    )\n",
    "    fig.show()\n",
    "\n",
    "accs_by_groups = []\n",
    "for (n_mels, groups), res in sorted(results.items()):\n",
    "    if n_mels == 80:\n",
    "        accs_by_groups.append({\"groups\": groups, \"accuracy\": res['test_accuracy']})\n",
    "if accs_by_groups:\n",
    "    df = pd.DataFrame(accs_by_groups)\n",
    "    fig = px.line(df, x=\"groups\", y=\"accuracy\", markers=True)\n",
    "    fig.update_layout(\n",
    "        title=\"Test Accuracy vs Groups (n_mels=80)\",\n",
    "        xaxis_title=\"groups\",\n",
    "        yaxis_title=\"Test Accuracy\"\n",
    "    )\n",
    "    fig.show()\n",
    "\n",
    "data_heatmap = []\n",
    "for (n_mels, groups), res in results.items():\n",
    "    data_heatmap.append({\n",
    "        \"n_mels\": n_mels,\n",
    "        \"groups\": groups,\n",
    "        \"accuracy\": res['test_accuracy']\n",
    "    })\n",
    "\n",
    "if data_heatmap:\n",
    "    df = pd.DataFrame(data_heatmap)\n",
    "    pivot_df = df.pivot(index=\"groups\", columns=\"n_mels\", values=\"accuracy\")\n",
    "    fig = px.imshow(\n",
    "        pivot_df,\n",
    "        labels=dict(x=\"n_mels\", y=\"groups\", color=\"Test Accuracy\"),\n",
    "        x=pivot_df.columns,\n",
    "        y=pivot_df.index,\n",
    "        color_continuous_scale=\"viridis\"\n",
    "    )\n",
    "    fig.update_layout(\n",
    "        title=\"Test Accuracy Heatmap (n_mels vs groups)\",\n",
    "        xaxis_title=\"n_mels\",\n",
    "        yaxis_title=\"groups\"\n",
    "    )\n",
    "    fig.show()\n",
    "\n",
    "times = []\n",
    "for (n_mels, groups), res in sorted(results.items()):\n",
    "    if n_mels == 80:\n",
    "        avg_time = sum(res['history']['epoch_time']) / len(res['history']['epoch_time'])\n",
    "        times.append({\"groups\": groups, \"avg_time\": avg_time})\n",
    "if times:\n",
    "    df = pd.DataFrame(times)\n",
    "    fig = px.line(df, x=\"groups\", y=\"avg_time\", markers=True)\n",
    "    fig.update_layout(\n",
    "        title=\"Epoch Training Time vs Groups (n_mels=80)\",\n",
    "        xaxis_title=\"groups\",\n",
    "        yaxis_title=\"Average Epoch Time (s)\"\n",
    "    )\n",
    "    fig.show()\n",
    "\n",
    "params_data = []\n",
    "for (n_mels, groups), res in sorted(results.items()):\n",
    "    if n_mels == 80:\n",
    "        params_data.append({\"groups\": groups, \"params\": res['params']})\n",
    "if params_data:\n",
    "    df = pd.DataFrame(params_data)\n",
    "    fig = px.line(df, x=\"groups\", y=\"params\", markers=True)\n",
    "    fig.update_layout(\n",
    "        title=\"Model Parameters vs Groups (n_mels=80)\",\n",
    "        xaxis_title=\"groups\",\n",
    "        yaxis_title=\"Number of Parameters\"\n",
    "    )\n",
    "    fig.show()\n",
    "\n",
    "flops_data = []\n",
    "for (n_mels, groups), res in sorted(results.items()):\n",
    "    if n_mels == 80:\n",
    "        flops_data.append({\"groups\": groups, \"flops\": res['flops']})\n",
    "if flops_data:\n",
    "    df = pd.DataFrame(flops_data)\n",
    "    fig = px.line(df, x=\"groups\", y=\"flops\", markers=True)\n",
    "    fig.update_layout(\n",
    "        title=\"Model FLOPs vs Groups (n_mels=80)\",\n",
    "        xaxis_title=\"groups\",\n",
    "        yaxis_title=\"FLOPs\"\n",
    "    )\n",
    "    fig.show()\n",
    "\n",
    "params_heatmap = []\n",
    "for (n_mels, groups), res in results.items():\n",
    "    params_heatmap.append({\n",
    "        \"n_mels\": n_mels,\n",
    "        \"groups\": groups,\n",
    "        \"params\": res['params']\n",
    "    })\n",
    "\n",
    "if params_heatmap:\n",
    "    df = pd.DataFrame(params_heatmap)\n",
    "    pivot_df = df.pivot(index=\"groups\", columns=\"n_mels\", values=\"params\")\n",
    "    fig = px.imshow(\n",
    "        pivot_df,\n",
    "        labels=dict(x=\"n_mels\", y=\"groups\", color=\"Parameters\"),\n",
    "        x=pivot_df.columns,\n",
    "        y=pivot_df.index,\n",
    "        color_continuous_scale=\"viridis\"\n",
    "    )\n",
    "    fig.update_layout(\n",
    "        title=\"Model Parameters Heatmap (n_mels vs groups)\",\n",
    "        xaxis_title=\"n_mels\",\n",
    "        yaxis_title=\"groups\"\n",
    "    )\n",
    "    fig.show()\n",
    "\n",
    "flops_heatmap = []\n",
    "for (n_mels, groups), res in results.items():\n",
    "    flops_heatmap.append({\n",
    "        \"n_mels\": n_mels,\n",
    "        \"groups\": groups,\n",
    "        \"flops\": res['flops']\n",
    "    })\n",
    "\n",
    "if flops_heatmap:\n",
    "    df = pd.DataFrame(flops_heatmap)\n",
    "    pivot_df = df.pivot(index=\"groups\", columns=\"n_mels\", values=\"flops\")\n",
    "    fig = px.imshow(\n",
    "        pivot_df,\n",
    "        labels=dict(x=\"n_mels\", y=\"groups\", color=\"FLOPs\"),\n",
    "        x=pivot_df.columns,\n",
    "        y=pivot_df.index,\n",
    "        color_continuous_scale=\"viridis\"\n",
    "    )\n",
    "    fig.update_layout(\n",
    "        title=\"Model FLOPs Heatmap (n_mels vs groups)\",\n",
    "        xaxis_title=\"n_mels\",\n",
    "        yaxis_title=\"groups\"\n",
    "    )\n",
    "    fig.show()"
   ]
  }
 ],
 "metadata": {
  "kernelspec": {
   "display_name": "aidao",
   "language": "python",
   "name": "python3"
  },
  "language_info": {
   "codemirror_mode": {
    "name": "ipython",
    "version": 3
   },
   "file_extension": ".py",
   "mimetype": "text/x-python",
   "name": "python",
   "nbconvert_exporter": "python",
   "pygments_lexer": "ipython3",
   "version": "3.12.3"
  }
 },
 "nbformat": 4,
 "nbformat_minor": 2
}
